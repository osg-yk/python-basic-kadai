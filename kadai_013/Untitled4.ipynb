{
  "nbformat": 4,
  "nbformat_minor": 0,
  "metadata": {
    "colab": {
      "provenance": []
    },
    "kernelspec": {
      "name": "python3",
      "display_name": "Python 3"
    },
    "language_info": {
      "name": "python"
    }
  },
  "cells": [
    {
      "cell_type": "code",
      "execution_count": 3,
      "metadata": {
        "colab": {
          "base_uri": "https://localhost:8080/"
        },
        "id": "DZlQtBR4cdwI",
        "outputId": "8b7a8a6b-547b-4d90-ea1e-613c2c615ce7"
      },
      "outputs": [
        {
          "output_type": "stream",
          "name": "stdout",
          "text": [
            "121.0\n"
          ]
        }
      ],
      "source": [
        "def add_syouhizei(kakaku, rate):\n",
        "  return kakaku * (rate + 100 ) / 100\n",
        "\n",
        "kakaku = 110\n",
        "rate = 10\n",
        "\n",
        "print(add_syouhizei(kakaku, rate))"
      ]
    }
  ]
}