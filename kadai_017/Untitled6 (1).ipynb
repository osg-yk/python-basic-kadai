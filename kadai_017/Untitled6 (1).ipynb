{
  "nbformat": 4,
  "nbformat_minor": 0,
  "metadata": {
    "colab": {
      "provenance": []
    },
    "kernelspec": {
      "name": "python3",
      "display_name": "Python 3"
    },
    "language_info": {
      "name": "python"
    }
  },
  "cells": [
    {
      "cell_type": "code",
      "execution_count": 5,
      "metadata": {
        "colab": {
          "base_uri": "https://localhost:8080/"
        },
        "id": "vKxWk5p58sqf",
        "outputId": "c197556c-1921-49b5-8412-586115d7225b"
      },
      "outputs": [
        {
          "output_type": "stream",
          "name": "stdout",
          "text": [
            "大人でない\n",
            "大人\n",
            "大人でない\n",
            "大人\n"
          ]
        }
      ],
      "source": [
        "class Human:\n",
        "  def __init__(self,name, age):\n",
        "    self.name = name\n",
        "    self.age = age\n",
        "\n",
        "  def check_adult(self):\n",
        "    if self.age >= 20:\n",
        "      print(\"大人\")\n",
        "    else:\n",
        "      print(\"大人でない\")\n",
        "\n",
        "human_list = []\n",
        "human_list.append(Human(\"a\", 18))\n",
        "human_list.append(Human(\"b\", 22))\n",
        "human_list.append(Human(\"c\", 3))\n",
        "human_list.append(Human(\"d\", 180))\n",
        "\n",
        "for human in human_list:\n",
        "  human.check_adult()\n",
        "\n"
      ]
    }
  ]
}